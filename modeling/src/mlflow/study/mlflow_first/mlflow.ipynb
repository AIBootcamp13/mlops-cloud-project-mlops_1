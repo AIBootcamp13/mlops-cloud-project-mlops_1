{
 "cells": [
  {
   "cell_type": "code",
   "execution_count": 6,
   "id": "a84a9855",
   "metadata": {},
   "outputs": [
    {
     "name": "stderr",
     "output_type": "stream",
     "text": [
      "2025/05/30 14:40:50 INFO mlflow.utils.autologging_utils: Created MLflow autologging run with ID '5f8a8485dd0044a39331389fdef40dc7', which will track hyperparameters, performance metrics, model artifacts, and lineage information for the current sklearn workflow\n"
     ]
    },
    {
     "name": "stdout",
     "output_type": "stream",
     "text": [
      "🏃 View run funny-croc-231 at: http://localhost:5000/#/experiments/0/runs/5f8a8485dd0044a39331389fdef40dc7\n",
      "🧪 View experiment at: http://localhost:5000/#/experiments/0\n"
     ]
    }
   ],
   "source": [
    "import mlflow\n",
    "mlflow.set_tracking_uri(\"http://localhost:5000\")\n",
    "\n",
    "from sklearn.datasets import load_diabetes\n",
    "from sklearn.model_selection import train_test_split\n",
    "from sklearn.ensemble import RandomForestRegressor\n",
    "\n",
    "mlflow.sklearn.autolog()\n",
    "data_diabetes = load_diabetes()\n",
    "X_train, X_test, y_train, y_test = train_test_split(data_diabetes.data, data_diabetes.target)\n",
    "\n",
    "reg = RandomForestRegressor(n_estimators=100, max_depth=5, max_features=10)\n",
    "reg.fit(X_train, y_train)\n",
    "\n",
    "predictions = reg.predict(X_test)\n"
   ]
  },
  {
   "cell_type": "code",
   "execution_count": 3,
   "id": "463db972",
   "metadata": {},
   "outputs": [
    {
     "data": {
      "text/plain": [
       "array([245.30209704, 176.26582772, 128.15533647, 117.72377288,\n",
       "       178.58033333, 116.48061431, 168.63194391, 147.75750833,\n",
       "       114.90124532, 104.30857356,  87.05010047, 118.24094137,\n",
       "       146.55379085, 106.15847154, 142.54364756, 186.8218829 ,\n",
       "       141.328637  , 168.30477121, 187.94694896, 149.39965727,\n",
       "       190.71893606, 239.55155556,  98.83941096, 248.073114  ,\n",
       "       137.85316081, 166.68533333, 150.59322568, 190.188     ,\n",
       "       245.09287879, 115.84280303, 153.03568182, 230.06535043,\n",
       "       137.06648977, 106.63188607,  99.44772774, 172.51055556,\n",
       "        69.90311897,  93.80342258, 155.75773755, 175.73565657,\n",
       "       276.93611688, 177.90004151, 155.12324702, 165.56905583,\n",
       "       182.66961905, 122.06796385, 188.17050142,  92.66789487,\n",
       "       118.8311811 , 168.55417573, 125.86565924,  74.69053467,\n",
       "       202.32276136, 148.35558586,  98.47390699, 169.29716667,\n",
       "       135.95333647, 169.42994361, 130.97642343, 185.92725625,\n",
       "       129.85177629,  92.30370455, 236.55639971,  79.73250399,\n",
       "       241.95655736,  94.82441038, 209.99305195, 221.51894472,\n",
       "       101.82951523, 228.9514127 , 232.27407937,  92.00693654,\n",
       "        99.46374661, 125.07404396,  89.68529729,  68.41766489,\n",
       "       186.79774666, 233.59496032, 240.11788889, 119.45173882,\n",
       "       195.54890043, 250.12324026, 184.36098114, 187.53150312,\n",
       "       120.59218025, 179.84487157,  95.91587831, 215.16134369,\n",
       "        86.20124854, 177.35615729, 103.72143941, 110.17485698,\n",
       "       224.2638698 , 133.66887759, 155.48022922, 180.09933333,\n",
       "       119.1205696 , 149.77980952, 137.80434783, 207.12469841,\n",
       "       170.57400669, 143.81779465,  93.65660574, 152.56324643,\n",
       "       162.68791298,  74.75084367, 130.61027706, 215.19300794,\n",
       "       255.49825974, 113.7932312 , 117.90167534])"
      ]
     },
     "execution_count": 3,
     "metadata": {},
     "output_type": "execute_result"
    }
   ],
   "source": [
    "predictions"
   ]
  },
  {
   "cell_type": "code",
   "execution_count": null,
   "id": "3b9be065",
   "metadata": {},
   "outputs": [],
   "source": []
  }
 ],
 "metadata": {
  "kernelspec": {
   "display_name": "mlops",
   "language": "python",
   "name": "python3"
  },
  "language_info": {
   "codemirror_mode": {
    "name": "ipython",
    "version": 3
   },
   "file_extension": ".py",
   "mimetype": "text/x-python",
   "name": "python",
   "nbconvert_exporter": "python",
   "pygments_lexer": "ipython3",
   "version": "3.10.13"
  }
 },
 "nbformat": 4,
 "nbformat_minor": 5
}
