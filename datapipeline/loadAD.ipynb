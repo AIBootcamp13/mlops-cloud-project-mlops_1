{
 "cells": [
  {
   "cell_type": "code",
   "execution_count": null,
   "id": "10e7ceed",
   "metadata": {},
   "outputs": [],
   "source": [
    "import requests\n",
    "import pandas as pd\n",
    "from io import StringIO\n",
    "import os\n",
    "from dotenv import load_dotenv"
   ]
  },
  {
   "cell_type": "code",
   "execution_count": null,
   "id": "5e65915f",
   "metadata": {},
   "outputs": [],
   "source": [
    "load_dotenv()  # .env 파일 읽어오기\n",
    "api_key = os.getenv('AD_API_KEY')\n",
    "\n",
    "def download_file(file_url, save_path):\n",
    "    with open(save_path, 'wb') as f: # 저장할 파일을 바이너리 쓰기 모드로 열기\n",
    "        response = requests.get(file_url) # 파일 URL에 GET 요청 보내기\n",
    "        f.write(response.content) # 응답의 내용을 파일에 쓰기\n",
    "\n",
    "# # URL과 저장 경로 변수를 지정합니다.\n",
    "url = f\"https://apihub.kma.go.kr/api/typ01/url/kma_pm10.php?tm1=200804281215&tm2=202505271230&stn=108&authKey={api_key}\"\n",
    "\n",
    "save_file_path = '../datapipeline/data/data2.csv'\n",
    "\n",
    "# # 파일 다운로드 함수를 호출합니다.\n",
    "download_file(url, save_file_path)"
   ]
  },
  {
   "cell_type": "code",
   "execution_count": null,
   "id": "ce2069e3",
   "metadata": {},
   "outputs": [
    {
     "name": "stderr",
     "output_type": "stream",
     "text": [
      "C:\\Users\\01028\\AppData\\Local\\Temp\\ipykernel_23968\\31048923.py:21: SettingWithCopyWarning: \n",
      "A value is trying to be set on a copy of a slice from a DataFrame.\n",
      "Try using .loc[row_indexer,col_indexer] = value instead\n",
      "\n",
      "See the caveats in the documentation: https://pandas.pydata.org/pandas-docs/stable/user_guide/indexing.html#returning-a-view-versus-a-copy\n",
      "  df_ad['날짜시간'] = df_ad['날짜시간'].astype(str).str.extract(r'(\\d{12})')[0]\n",
      "C:\\Users\\01028\\AppData\\Local\\Temp\\ipykernel_23968\\31048923.py:22: SettingWithCopyWarning: \n",
      "A value is trying to be set on a copy of a slice from a DataFrame.\n",
      "Try using .loc[row_indexer,col_indexer] = value instead\n",
      "\n",
      "See the caveats in the documentation: https://pandas.pydata.org/pandas-docs/stable/user_guide/indexing.html#returning-a-view-versus-a-copy\n",
      "  df_ad['날짜'] = pd.to_datetime(df_ad['날짜시간'], format='%Y%m%d%H%M', errors='coerce').dt.date\n",
      "C:\\Users\\01028\\AppData\\Local\\Temp\\ipykernel_23968\\31048923.py:25: SettingWithCopyWarning: \n",
      "A value is trying to be set on a copy of a slice from a DataFrame.\n",
      "Try using .loc[row_indexer,col_indexer] = value instead\n",
      "\n",
      "See the caveats in the documentation: https://pandas.pydata.org/pandas-docs/stable/user_guide/indexing.html#returning-a-view-versus-a-copy\n",
      "  df_ad['PM10'] = pd.to_numeric(df_ad['PM10'], errors='coerce')\n"
     ]
    },
    {
     "name": "stdout",
     "output_type": "stream",
     "text": [
      "          날짜  PM10_MIN  PM10_MAX  PM10_AVG\n",
      "0 2008-04-28      47.0      93.0      75.5\n",
      "1 2008-04-29      53.0     128.0      85.2\n",
      "2 2008-04-30      34.0     130.0      73.5\n",
      "3 2008-05-01      35.0      85.0      55.6\n",
      "4 2008-05-02      42.0      95.0      59.8\n"
     ]
    }
   ],
   "source": [
    "with open('../datapipeline/data/data2.csv', 'r', encoding='cp949') as f:\n",
    "    lines = f.readlines()\n",
    "\n",
    "# 주석(#) 제거\n",
    "data_lines = [line for line in lines if not line.startswith('#')]\n",
    "\n",
    "# 데이터 문자열로 합치기\n",
    "data_str = ''.join(data_lines)\n",
    "\n",
    "# 쉼표 구분자로 읽기\n",
    "df = pd.read_csv(StringIO(data_str), sep=',', header=None, on_bad_lines='skip', low_memory=False)\n",
    "\n",
    "# 날짜(PM10) 컬럼 위치 자동 탐색\n",
    "if df.shape[1] >= 3:\n",
    "    df_ad = df.iloc[:, [0, 2]]\n",
    "    df_ad.columns = ['날짜시간', 'PM10']\n",
    "else:\n",
    "    raise ValueError(\"데이터 형식 확인 필요: 예상 컬럼 3개 이상이어야 함\")\n",
    "\n",
    "# 날짜시간 컬럼: 12자리 숫자(YYYYMMDDHHMM)만 추출 후 날짜 변환\n",
    "df_ad['날짜시간'] = df_ad['날짜시간'].astype(str).str.extract(r'(\\d{12})')[0]\n",
    "df_ad['날짜'] = pd.to_datetime(df_ad['날짜시간'], format='%Y%m%d%H%M', errors='coerce').dt.date\n",
    "\n",
    "# PM10 숫자형 변환\n",
    "df_ad['PM10'] = pd.to_numeric(df_ad['PM10'], errors='coerce')\n",
    "\n",
    "# 날짜별 최소/최대/평균 구하기\n",
    "df_pm10 = df_ad.groupby('날짜')['PM10'].agg(['min', 'max', 'mean']).reset_index()\n",
    "df_pm10.columns = ['날짜', 'PM10_MIN', 'PM10_MAX', 'PM10_AVG']\n",
    "\n",
    "df_pm10 = df_pm10.round(1)\n",
    "\n",
    "df_pm10['날짜'] = pd.to_datetime(df_pm10['날짜'].astype(str))\n",
    "\n",
    "# 저장\n",
    "df_pm10.to_csv('../datapipeline/data/PM10_data.csv', index=False, encoding='utf-8-sig')\n",
    "\n",
    "print(df_pm10.head())\n"
   ]
  },
  {
   "cell_type": "code",
   "execution_count": 82,
   "id": "c496cb40",
   "metadata": {},
   "outputs": [
    {
     "name": "stdout",
     "output_type": "stream",
     "text": [
      "<class 'pandas.core.frame.DataFrame'>\n",
      "RangeIndex: 6221 entries, 0 to 6220\n",
      "Data columns (total 4 columns):\n",
      " #   Column    Non-Null Count  Dtype         \n",
      "---  ------    --------------  -----         \n",
      " 0   날짜        6221 non-null   datetime64[ns]\n",
      " 1   PM10_MIN  6221 non-null   float64       \n",
      " 2   PM10_MAX  6221 non-null   float64       \n",
      " 3   PM10_AVG  6221 non-null   float64       \n",
      "dtypes: datetime64[ns](1), float64(3)\n",
      "memory usage: 194.5 KB\n"
     ]
    }
   ],
   "source": [
    "df_pm10.info()"
   ]
  }
 ],
 "metadata": {
  "kernelspec": {
   "display_name": "Python 3",
   "language": "python",
   "name": "python3"
  },
  "language_info": {
   "codemirror_mode": {
    "name": "ipython",
    "version": 3
   },
   "file_extension": ".py",
   "mimetype": "text/x-python",
   "name": "python",
   "nbconvert_exporter": "python",
   "pygments_lexer": "ipython3",
   "version": "3.10.10"
  }
 },
 "nbformat": 4,
 "nbformat_minor": 5
}
