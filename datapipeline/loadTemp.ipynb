{
 "cells": [
  {
   "cell_type": "code",
   "execution_count": 2,
   "id": "cb83582a",
   "metadata": {},
   "outputs": [],
   "source": [
    "import requests\n",
    "import pandas as pd\n",
    "from io import StringIO\n",
    "import os\n",
    "from dotenv import load_dotenv"
   ]
  },
  {
   "cell_type": "code",
   "execution_count": 6,
   "id": "b2bffa3d",
   "metadata": {},
   "outputs": [],
   "source": [
    "load_dotenv()  # .env 파일 읽어오기\n",
    "api_key = os.getenv('API_KEY')\n",
    "\n",
    "def download_file(file_url, save_path):\n",
    "    with open(save_path, 'wb') as f: # 저장할 파일을 바이너리 쓰기 모드로 열기\n",
    "        response = requests.get(file_url) # 파일 URL에 GET 요청 보내기\n",
    "        f.write(response.content) # 응답의 내용을 파일에 쓰기\n",
    "\n",
    "# URL과 저장 경로 변수를 지정합니다.\n",
    "url = f\"https://apihub.kma.go.kr/api/typ01/url/kma_sfcdd3.php?tm1=19040401&obs=TA&stn=108&help=0&mode=0&authKey={api_key}\"\n",
    "\n",
    "save_file_path = 'data.csv'\n",
    "\n",
    "# # 파일 다운로드 함수를 호출합니다.\n",
    "download_file(url, save_file_path)"
   ]
  },
  {
   "cell_type": "code",
   "execution_count": 7,
   "id": "d532bbee",
   "metadata": {},
   "outputs": [
    {
     "name": "stderr",
     "output_type": "stream",
     "text": [
      "C:\\Users\\01028\\AppData\\Local\\Temp\\ipykernel_40768\\3997389493.py:11: FutureWarning: The 'delim_whitespace' keyword in pd.read_csv is deprecated and will be removed in a future version. Use ``sep='\\s+'`` instead\n",
      "  df = pd.read_csv(StringIO(data_str), delim_whitespace=True, header=None)\n"
     ]
    },
    {
     "name": "stdout",
     "output_type": "stream",
     "text": [
      "          날짜  TA_AVG  TA_MAX  TA_MIN\n",
      "0 1907-10-01    13.5    20.7     7.9\n",
      "1 1907-10-02    16.2    22.0     7.9\n",
      "2 1907-10-03    16.2    21.3    13.1\n",
      "3 1907-10-04    16.5    22.0    11.2\n",
      "4 1907-10-05    17.6    25.4    10.9\n"
     ]
    },
    {
     "name": "stderr",
     "output_type": "stream",
     "text": [
      "C:\\Users\\01028\\AppData\\Local\\Temp\\ipykernel_40768\\3997389493.py:17: SettingWithCopyWarning: \n",
      "A value is trying to be set on a copy of a slice from a DataFrame.\n",
      "Try using .loc[row_indexer,col_indexer] = value instead\n",
      "\n",
      "See the caveats in the documentation: https://pandas.pydata.org/pandas-docs/stable/user_guide/indexing.html#returning-a-view-versus-a-copy\n",
      "  df_ta['날짜'] = pd.to_datetime(df_ta['날짜'].astype(str))\n"
     ]
    }
   ],
   "source": [
    "with open('data.csv', 'r', encoding='utf-8') as f:\n",
    "    lines = f.readlines()\n",
    "\n",
    "# 주석(#) 제거\n",
    "data_lines = [line for line in lines if not line.startswith('#')]\n",
    "\n",
    "# 데이터 프레임으로 변환\n",
    "from io import StringIO\n",
    "\n",
    "data_str = ''.join(data_lines)\n",
    "df = pd.read_csv(StringIO(data_str), delim_whitespace=True, header=None)\n",
    "\n",
    "# 기온 컬럼만 남기기 'TA AVG' = 10, 'TA MAX' = 11, 'TA MIN' = 13번째 열 (0부터 시작)\n",
    "df_ta = df.iloc[:, [0, 10, 11, 13]]\n",
    "df_ta.columns = ['날짜', 'TA_AVG', 'TA_MAX', 'TA_MIN']\n",
    "\n",
    "df_ta['날짜'] = pd.to_datetime(df_ta['날짜'].astype(str))\n",
    "\n",
    "df_ta.to_csv('TA_data.csv', index=False)\n",
    "\n",
    "print(df_ta.head())"
   ]
  },
  {
   "cell_type": "code",
   "execution_count": 8,
   "id": "4b84cb84",
   "metadata": {},
   "outputs": [
    {
     "name": "stdout",
     "output_type": "stream",
     "text": [
      "<class 'pandas.core.frame.DataFrame'>\n",
      "RangeIndex: 41787 entries, 0 to 41786\n",
      "Data columns (total 4 columns):\n",
      " #   Column  Non-Null Count  Dtype         \n",
      "---  ------  --------------  -----         \n",
      " 0   날짜      41787 non-null  datetime64[ns]\n",
      " 1   TA_AVG  41787 non-null  float64       \n",
      " 2   TA_MAX  41787 non-null  float64       \n",
      " 3   TA_MIN  41787 non-null  float64       \n",
      "dtypes: datetime64[ns](1), float64(3)\n",
      "memory usage: 1.3 MB\n"
     ]
    }
   ],
   "source": [
    "df_ta.info()"
   ]
  }
 ],
 "metadata": {
  "kernelspec": {
   "display_name": "Python 3",
   "language": "python",
   "name": "python3"
  },
  "language_info": {
   "codemirror_mode": {
    "name": "ipython",
    "version": 3
   },
   "file_extension": ".py",
   "mimetype": "text/x-python",
   "name": "python",
   "nbconvert_exporter": "python",
   "pygments_lexer": "ipython3",
   "version": "3.10.10"
  }
 },
 "nbformat": 4,
 "nbformat_minor": 5
}
